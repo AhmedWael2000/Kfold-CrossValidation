{
  "nbformat": 4,
  "nbformat_minor": 0,
  "metadata": {
    "colab": {
      "provenance": [],
      "include_colab_link": true
    },
    "kernelspec": {
      "name": "python3",
      "display_name": "Python 3"
    },
    "language_info": {
      "name": "python"
    }
  },
  "cells": [
    {
      "cell_type": "markdown",
      "metadata": {
        "id": "view-in-github",
        "colab_type": "text"
      },
      "source": [
        "<a href=\"https://colab.research.google.com/github/AhmedWael2000/MNIST_Classification/blob/main/MNIST_Classification_%26_Cross_Validation.ipynb\" target=\"_parent\"><img src=\"https://colab.research.google.com/assets/colab-badge.svg\" alt=\"Open In Colab\"/></a>"
      ]
    },
    {
      "cell_type": "code",
      "execution_count": 20,
      "metadata": {
        "id": "32WaZnrkeZYU"
      },
      "outputs": [],
      "source": [
        "import pandas as pd\n",
        "import numpy as np\n",
        "import matplotlib.pyplot as plt\n",
        "import seaborn as sns"
      ]
    },
    {
      "cell_type": "markdown",
      "source": [
        "#Loading mnist from Keras"
      ],
      "metadata": {
        "id": "CTdRjQ9Qgz0k"
      }
    },
    {
      "cell_type": "code",
      "source": [
        "from keras.datasets import mnist\n",
        "\n",
        "# Load the MNIST dataset\n",
        "(x_train, y_train), (x_test, y_test) = mnist.load_data()\n",
        "\n",
        "x_train=x_train[np.where(y_train<2 )]\n",
        "x_test=x_test[np.where(y_test<2 )]\n",
        "\n",
        "y_train=y_train[np.where(y_train<2 )]\n",
        "y_test=y_test[np.where(y_test <2)]\n",
        "\n",
        "fig, axes = plt.subplots(nrows=3, ncols=3, figsize=(5, 5))\n",
        "for i, ax in enumerate(axes.flatten()):\n",
        "    ax.imshow(x_train[i], cmap='gray')\n",
        "    # ax.set_title(f'Label: {train_labels[indexes[i]]}')\n",
        "    ax.axis('off')\n",
        "plt.tight_layout()\n",
        "\n"
      ],
      "metadata": {
        "colab": {
          "base_uri": "https://localhost:8080/",
          "height": 507
        },
        "id": "MSNybLqgzsn7",
        "outputId": "7c8a0051-4bee-4663-bc7f-88021ee951e7"
      },
      "execution_count": 21,
      "outputs": [
        {
          "output_type": "display_data",
          "data": {
            "text/plain": [
              "<Figure size 500x500 with 9 Axes>"
            ],
            "image/png": "[encoded data removed]"
          },
          "metadata": {}
        }
      ]
    },
    {
      "cell_type": "markdown",
      "source": [
        "#flatten the training data"
      ],
      "metadata": {
        "id": "H_gP2CaxPp-7"
      }
    },
    {
      "cell_type": "code",
      "source": [
        "\n",
        "x_train=x_train.reshape(12665,-1)\n",
        "print('x_train shape:', x_train.shape)\n"
      ],
      "metadata": {
        "colab": {
          "base_uri": "https://localhost:8080/"
        },
        "id": "AerQoUiOPhXS",
        "outputId": "deb6ad5e-47a0-4715-95b8-7939987c06fc"
      },
      "execution_count": 22,
      "outputs": [
        {
          "output_type": "stream",
          "name": "stdout",
          "text": [
            "x_train shape: (12665, 784)\n"
          ]
        }
      ]
    },
    {
      "cell_type": "markdown",
      "source": [
        "#normalizing training data"
      ],
      "metadata": {
        "id": "xU9LorvtYK7_"
      }
    },
    {
      "cell_type": "code",
      "source": [
        "# x_train=x_train/255.0\n",
        "mean=np.mean(x_train,axis=0)\n",
        "std=np.std(x_train,axis=0)+1e-5\n",
        "x_train=(x_train - mean)/std\n"
      ],
      "metadata": {
        "id": "DBjY2HXQYP50"
      },
      "execution_count": 23,
      "outputs": []
    },
    {
      "cell_type": "markdown",
      "source": [
        "#Sigmoid Function and cross entropy fuction\n"
      ],
      "metadata": {
        "id": "3QZgxAoXeE6R"
      }
    },
    {
      "cell_type": "code",
      "source": [
        "def sigmoid(x):\n",
        "  return 1/(1+np.exp(-x))\n",
        "\n",
        "def sigCost(y,y_hat):\n",
        "  y_hat = np.clip(y_hat, 1e-10, 1 - 1e-10)\n",
        "  return np.mean( - (y * np.log(y_hat) + (1 - y) * np.log(1 - y_hat)))"
      ],
      "metadata": {
        "id": "Q-cfgv3Phn0-"
      },
      "execution_count": 24,
      "outputs": []
    },
    {
      "cell_type": "markdown",
      "source": [
        "#logistic function"
      ],
      "metadata": {
        "id": "Nh7bxlB2eWyQ"
      }
    },
    {
      "cell_type": "markdown",
      "source": [],
      "metadata": {
        "id": "kOQ5nkySeWcS"
      }
    },
    {
      "cell_type": "code",
      "source": [
        "def logistic(X, y, w, b, l, iter):\n",
        "\n",
        "  y=y.reshape(-1,1)\n",
        "  cost=[]\n",
        "  for j in range(iter):\n",
        "    # print some stats during training\n",
        "\n",
        "    z = np.dot(X,w.T)+b\n",
        "    alphaZ=sigmoid(z)\n",
        "    cost.append(sigCost(y,alphaZ))\n",
        "\n",
        "    w += l*np.dot((y - alphaZ).T, X)/len(X)\n",
        "    b += l*np.sum((y - alphaZ))/len(X)\n",
        "\n",
        "    # if j %(iter/10)==0:\n",
        "    #   print(f\"iter: {j} b:{b} cost:{cost[-1]}\")\n",
        "\n",
        "  return w, b,cost"
      ],
      "metadata": {
        "id": "4f2fWBlv-Q2o"
      },
      "execution_count": 25,
      "outputs": []
    },
    {
      "cell_type": "markdown",
      "source": [
        "#accuracy"
      ],
      "metadata": {
        "id": "WTy1cR3BM8Pe"
      }
    },
    {
      "cell_type": "code",
      "source": [
        "def accuracy(y,y_hat):\n",
        "  y_hat=np.round(y_hat).flatten()\n",
        "  y=np.round(y).flatten()\n",
        "\n",
        "  return (y==y_hat).sum()/y.size\n",
        "\n"
      ],
      "metadata": {
        "id": "ByfsXsceBFf8"
      },
      "execution_count": 26,
      "outputs": []
    },
    {
      "cell_type": "markdown",
      "source": [
        "#implementing KFold cross Validation"
      ],
      "metadata": {
        "id": "PrqYIKfXM0DK"
      }
    },
    {
      "cell_type": "code",
      "source": [
        "import random as rd\n",
        "def kfold(x_train,y_train,shuffle=True,k=10):\n",
        "  indx=list(range(len(x_train)))\n",
        "  if shuffle:\n",
        "    rd.shuffle(indx)\n",
        "  folds=np.array_split(indx,k)  \n",
        "  pairs=[]\n",
        "  for i in range(k):\n",
        "    train=folds[i]\n",
        "    val=np.concatenate(np.delete(folds,i,axis=0))\n",
        "    pairs.append((train,val))\n",
        "  return pairs\n",
        "\n",
        "pairs=kfold(x_train,y_train,shuffle=True,k=10)   \n",
        "pairs[0][0].shape,pairs[0][1].shape"
      ],
      "metadata": {
        "colab": {
          "base_uri": "https://localhost:8080/"
        },
        "outputId": "bd382edd-909a-4cef-c9a4-82ab1481e251",
        "id": "FOOVYbzeBFgO"
      },
      "execution_count": 27,
      "outputs": [
        {
          "output_type": "stream",
          "name": "stderr",
          "text": [
            "/usr/local/lib/python3.10/dist-packages/numpy/lib/function_base.py:5030: VisibleDeprecationWarning:\n",
            "\n",
            "Creating an ndarray from ragged nested sequences (which is a list-or-tuple of lists-or-tuples-or ndarrays with different lengths or shapes) is deprecated. If you meant to do this, you must specify 'dtype=object' when creating the ndarray.\n",
            "\n"
          ]
        },
        {
          "output_type": "execute_result",
          "data": {
            "text/plain": [
              "((1267,), (11398,))"
            ]
          },
          "metadata": {},
          "execution_count": 27
        }
      ]
    },
    {
      "cell_type": "markdown",
      "source": [
        "#When Learning rate is 0.01"
      ],
      "metadata": {
        "id": "KcR_u-SVMaYY"
      }
    },
    {
      "cell_type": "code",
      "source": [
        "w = np.random.randn(1, 28*28)\n",
        "b = np.zeros(1)\n"
      ],
      "metadata": {
        "id": "KNhz93N3VCYu"
      },
      "execution_count": 28,
      "outputs": []
    },
    {
      "cell_type": "code",
      "source": [
        "train_acc=[]\n",
        "val_acc_1=[]\n",
        "for train, val in pairs:\n",
        "  w, b,cost = logistic(x_train[train], y_train[train], w, b, l=0.01, iter=100)\n",
        "    \n",
        "  train_acc.append(accuracy(y_train[train],sigmoid(np.dot(x_train[train],w.T)+b)))\n",
        "\n",
        "  val_acc_1.append(accuracy(y_train[val],sigmoid(np.dot(x_train[val],w.T)+b)))\n",
        "  \n",
        "\"average train accuracy: \",sum(train_acc)/len(train_acc),\"average validation accuracy: \" ,sum(val_acc_1)/len(val_acc_1)\n"
      ],
      "metadata": {
        "colab": {
          "base_uri": "https://localhost:8080/"
        },
        "id": "xpDknVsCBFgO",
        "outputId": "da9d0749-0295-4181-d15e-477e0a6d2a0a"
      },
      "execution_count": 29,
      "outputs": [
        {
          "output_type": "execute_result",
          "data": {
            "text/plain": [
              "('average train accuracy: ',\n",
              " 0.9514501671423459,\n",
              " 'average validation accuracy: ',\n",
              " 0.950009942597853)"
            ]
          },
          "metadata": {},
          "execution_count": 29
        }
      ]
    },
    {
      "cell_type": "markdown",
      "source": [
        "#When Learning rate is 0.05"
      ],
      "metadata": {
        "id": "Se3LrILwNGDa"
      }
    },
    {
      "cell_type": "code",
      "source": [
        "w = np.random.randn(1, 28*28)\n",
        "b = np.zeros(1)\n"
      ],
      "metadata": {
        "id": "JvbJphrhNGDc"
      },
      "execution_count": 30,
      "outputs": []
    },
    {
      "cell_type": "code",
      "source": [
        "train_acc=[]\n",
        "val_acc_2=[]\n",
        "for train, val in pairs:\n",
        "    \n",
        "  w, b,cost = logistic(x_train[train], y_train[train], w, b, l=0.05, iter=100)\n",
        "  train_acc.append(accuracy(y_train[train],sigmoid(np.dot(x_train[train],w.T)+b)))\n",
        "\n",
        "  val_acc_2.append(accuracy(y_train[val],sigmoid(np.dot(x_train[val],w.T)+b)))\n",
        "  \n",
        "\"average train accuracy: \",sum(train_acc)/len(train_acc),\"average validation accuracy: \" ,sum(val_acc_2)/len(val_acc_2)\n"
      ],
      "metadata": {
        "colab": {
          "base_uri": "https://localhost:8080/"
        },
        "outputId": "c513b207-a16a-4009-a514-8579c9f21e12",
        "id": "3iIlaHYCNGDd"
      },
      "execution_count": 31,
      "outputs": [
        {
          "output_type": "execute_result",
          "data": {
            "text/plain": [
              "('average train accuracy: ',\n",
              " 0.9858687723734463,\n",
              " 'average validation accuracy: ',\n",
              " 0.9849626481428224)"
            ]
          },
          "metadata": {},
          "execution_count": 31
        }
      ]
    },
    {
      "cell_type": "markdown",
      "source": [
        "#When Learning rate is 0.3"
      ],
      "metadata": {
        "id": "R0jBkAidNVot"
      }
    },
    {
      "cell_type": "code",
      "source": [
        "w = np.random.randn(1, 28*28)\n",
        "b = np.zeros(1)\n"
      ],
      "metadata": {
        "id": "6OpgpRvDNVot"
      },
      "execution_count": 32,
      "outputs": []
    },
    {
      "cell_type": "code",
      "source": [
        "train_acc=[]\n",
        "val_acc_3=[]\n",
        "for train, val in pairs:\n",
        "  w, b,cost = logistic(x_train[train], y_train[train], w, b, l=0.1, iter=100)\n",
        "    \n",
        "  train_acc.append(accuracy(y_train[train],sigmoid(np.dot(x_train[train],w.T)+b)))\n",
        "\n",
        "  val_acc_3.append(accuracy(y_train[val],sigmoid(np.dot(x_train[val],w.T)+b)))\n",
        "  \n",
        "\"average train accuracy: \",sum(train_acc)/len(train_acc),\"average validation accuracy: \" ,sum(val_acc_3)/len(val_acc_3)\n"
      ],
      "metadata": {
        "colab": {
          "base_uri": "https://localhost:8080/"
        },
        "outputId": "fd6b609b-bd28-4452-fd86-677f6c288173",
        "id": "ePdtzsevNVou"
      },
      "execution_count": 33,
      "outputs": [
        {
          "output_type": "execute_result",
          "data": {
            "text/plain": [
              "('average train accuracy: ',\n",
              " 0.9941579354896628,\n",
              " 'average validation accuracy: ',\n",
              " 0.9902880153089221)"
            ]
          },
          "metadata": {},
          "execution_count": 33
        }
      ]
    },
    {
      "cell_type": "markdown",
      "source": [
        "#When Learning rate is 0.0001"
      ],
      "metadata": {
        "id": "m-NUjVfetJRw"
      }
    },
    {
      "cell_type": "code",
      "source": [
        "w = np.random.randn(1, 28*28)\n",
        "b = np.zeros(1)\n"
      ],
      "metadata": {
        "id": "tV5IfA8cs6yZ"
      },
      "execution_count": 34,
      "outputs": []
    },
    {
      "cell_type": "code",
      "source": [
        "train_acc=[]\n",
        "val_acc_4=[]\n",
        "for train, val in pairs:\n",
        "    \n",
        "  w, b,cost = logistic(x_train[train], y_train[train], w, b, l=0.0001, iter=100)\n",
        "  train_acc.append(accuracy(y_train[train],sigmoid(np.dot(x_train[train],w.T)+b)))\n",
        "\n",
        "  val_acc_4.append(accuracy(y_train[val],sigmoid(np.dot(x_train[val],w.T)+b)))\n",
        "  \n",
        "\"average train accuracy: \",sum(train_acc)/len(train_acc),\"average validation accuracy: \" ,sum(val_acc_4)/len(val_acc_4)\n"
      ],
      "metadata": {
        "colab": {
          "base_uri": "https://localhost:8080/"
        },
        "outputId": "1cefb8bd-d6d3-4c5e-99a5-2738d0b9dbcb",
        "id": "swnm_3NPs6ya"
      },
      "execution_count": 35,
      "outputs": [
        {
          "output_type": "execute_result",
          "data": {
            "text/plain": [
              "('average train accuracy: ',\n",
              " 0.30384365052349654,\n",
              " 'average validation accuracy: ',\n",
              " 0.30612664218920893)"
            ]
          },
          "metadata": {},
          "execution_count": 35
        }
      ]
    },
    {
      "cell_type": "markdown",
      "source": [
        "#Comparing Validation Accuracy for each Case"
      ],
      "metadata": {
        "id": "fWibOAayDL3d"
      }
    },
    {
      "cell_type": "code",
      "source": [
        "# create sample data\n",
        "x = np.linspace(0,9,10)\n",
        "y1 = val_acc_1\n",
        "y2 = val_acc_2\n",
        "y3 = val_acc_3\n",
        "y4=val_acc_4\n",
        "# plot the data\n",
        "plt.plot(x, y4, color='blue', linestyle='-.', label='alpha_0.0001')\n",
        "plt.plot(x, y1, color='red', linestyle='-', label='alpha_0.01')\n",
        "plt.plot(x, y2, color='green', linestyle='--', label='alpha_0.03')\n",
        "plt.plot(x, y3, color='black', linestyle='-.', label='alpha_0.5')\n",
        "\n",
        "plt.legend()"
      ],
      "metadata": {
        "colab": {
          "base_uri": "https://localhost:8080/",
          "height": 447
        },
        "id": "poiT-xJap9rS",
        "outputId": "b8744244-1b02-49c4-d3f7-5461668416ae"
      },
      "execution_count": 36,
      "outputs": [
        {
          "output_type": "execute_result",
          "data": {
            "text/plain": [
              "<matplotlib.legend.Legend at 0x7fb62b7cf010>"
            ]
          },
          "metadata": {},
          "execution_count": 36
        },
        {
          "output_type": "display_data",
          "data": {
            "text/plain": [
              "<Figure size 640x480 with 1 Axes>"
            ],
            "image/png": "[encoded data removed]"
          },
          "metadata": {}
        }
      ]
    },
    {
      "cell_type": "markdown",
      "source": [
        "#Visualizing using Plotly library"
      ],
      "metadata": {
        "id": "x9XWGo1pdJm4"
      }
    },
    {
      "cell_type": "code",
      "source": [
        "lists={\n",
        "    'alpha_0.0001':y4,\n",
        "    'alpha_0.01':y1,\n",
        "    'alpha_0.03':y2,\n",
        "    'alpha_0.5':y3,\n",
        "    'x':x\n",
        "      }\n",
        "data=pd.DataFrame(lists)\n",
        "df = pd.melt(data, id_vars=['x'], var_name='line', value_name='y')\n",
        "df"
      ],
      "metadata": {
        "id": "QxJ8vOIIXeJQ"
      },
      "execution_count": null,
      "outputs": []
    },
    {
      "cell_type": "code",
      "source": [],
      "metadata": {
        "id": "dX48UIwhdVEq"
      },
      "execution_count": 37,
      "outputs": []
    },
    {
      "cell_type": "code",
      "source": [
        "import plotly.express as px\n",
        "fig = px.line(df, x='x', y='y', color='line',markers=True)\n",
        "fig.show()\n"
      ],
      "metadata": {
        "colab": {
          "base_uri": "https://localhost:8080/",
          "height": 542
        },
        "id": "Rt9wXW5EZf70",
        "outputId": "046dd8f9-50b1-4ec4-9d09-74d5904946a8"
      },
      "execution_count": 38,
      "outputs": [
        {
          "output_type": "display_data",
          "data": {
            "text/html": [
              "<html>\n",
              "<head><meta charset=\"utf-8\" /></head>\n",
              "<body>\n",
              "    <div>            <script src=\"https://cdnjs.cloudflare.com/ajax/libs/mathjax/2.7.5/MathJax.js?config=TeX-AMS-MML_SVG\"></script><script type=\"text/javascript\">if (window.MathJax && window.MathJax.Hub && window.MathJax.Hub.Config) {window.MathJax.Hub.Config({SVG: {font: \"STIX-Web\"}});}</script>                <script type=\"text/javascript\">window.PlotlyConfig = {MathJaxConfig: 'local'};</script>\n",
              "        <script src=\"https://cdn.plot.ly/plotly-2.18.2.min.js\"></script>                <div id=\"6db8c8c8-a0c0-4f9e-8fd5-849e4ad06303\" class=\"plotly-graph-div\" style=\"height:525px; width:100%;\"></div>            <script type=\"text/javascript\">                                    window.PLOTLYENV=window.PLOTLYENV || {};                                    if (document.getElementById(\"6db8c8c8-a0c0-4f9e-8fd5-849e4ad06303\")) {                    Plotly.newPlot(                        \"6db8c8c8-a0c0-4f9e-8fd5-849e4ad06303\",                        [{\"hovertemplate\":\"line=alpha_0.0001<br>x=%{x}<br>y=%{y}<extra></extra>\",\"legendgroup\":\"alpha_0.0001\",\"line\":{\"color\":\"#636efa\",\"dash\":\"solid\"},\"marker\":{\"symbol\":\"circle\"},\"mode\":\"lines+markers\",\"name\":\"alpha_0.0001\",\"orientation\":\"v\",\"showlegend\":true,\"x\":[0.0,1.0,2.0,3.0,4.0,5.0,6.0,7.0,8.0,9.0],\"xaxis\":\"x\",\"y\":[0.25592209159501667,0.2622389892963678,0.2738199684155115,0.28689243726969643,0.29706966134409546,0.31099219229756997,0.3257303272216861,0.33722256338275286,0.3496797964733749,0.3616983945960172],\"yaxis\":\"y\",\"type\":\"scatter\"},{\"hovertemplate\":\"line=alpha_0.01<br>x=%{x}<br>y=%{y}<extra></extra>\",\"legendgroup\":\"alpha_0.01\",\"line\":{\"color\":\"#EF553B\",\"dash\":\"solid\"},\"marker\":{\"symbol\":\"circle\"},\"mode\":\"lines+markers\",\"name\":\"alpha_0.01\",\"orientation\":\"v\",\"showlegend\":true,\"x\":[0.0,1.0,2.0,3.0,4.0,5.0,6.0,7.0,8.0,9.0],\"xaxis\":\"x\",\"y\":[0.8561151079136691,0.9202491665204422,0.9420951044042815,0.9524477978592736,0.9624495525530795,0.967628739363102,0.9704360031581718,0.9737696289148171,0.9765768927098868,0.9783314325818054],\"yaxis\":\"y\",\"type\":\"scatter\"},{\"hovertemplate\":\"line=alpha_0.03<br>x=%{x}<br>y=%{y}<extra></extra>\",\"legendgroup\":\"alpha_0.03\",\"line\":{\"color\":\"#00cc96\",\"dash\":\"solid\"},\"marker\":{\"symbol\":\"circle\"},\"mode\":\"lines+markers\",\"name\":\"alpha_0.03\",\"orientation\":\"v\",\"showlegend\":true,\"x\":[0.0,1.0,2.0,3.0,4.0,5.0,6.0,7.0,8.0,9.0],\"xaxis\":\"x\",\"y\":[0.9620108791015968,0.9737673276013336,0.9828917353921741,0.9858747148622565,0.9877171433584839,0.9890341258005089,0.9911395736468112,0.9916659356083867,0.9928063865251338,0.9927186595315378],\"yaxis\":\"y\",\"type\":\"scatter\"},{\"hovertemplate\":\"line=alpha_0.5<br>x=%{x}<br>y=%{y}<extra></extra>\",\"legendgroup\":\"alpha_0.5\",\"line\":{\"color\":\"#ab63fa\",\"dash\":\"solid\"},\"marker\":{\"symbol\":\"circle\"},\"mode\":\"lines+markers\",\"name\":\"alpha_0.5\",\"orientation\":\"v\",\"showlegend\":true,\"x\":[0.0,1.0,2.0,3.0,4.0,5.0,6.0,7.0,8.0,9.0],\"xaxis\":\"x\",\"y\":[0.9761361642393402,0.9822775925600983,0.9885944902614494,0.9916652044218284,0.9921916125636077,0.9934204754803053,0.9938591104482849,0.9939468374418808,0.9948241073778402,0.9959645582945873],\"yaxis\":\"y\",\"type\":\"scatter\"}],                        {\"template\":{\"data\":{\"histogram2dcontour\":[{\"type\":\"histogram2dcontour\",\"colorbar\":{\"outlinewidth\":0,\"ticks\":\"\"},\"colorscale\":[[0.0,\"#0d0887\"],[0.1111111111111111,\"#46039f\"],[0.2222222222222222,\"#7201a8\"],[0.3333333333333333,\"#9c179e\"],[0.4444444444444444,\"#bd3786\"],[0.5555555555555556,\"#d8576b\"],[0.6666666666666666,\"#ed7953\"],[0.7777777777777778,\"#fb9f3a\"],[0.8888888888888888,\"#fdca26\"],[1.0,\"#f0f921\"]]}],\"choropleth\":[{\"type\":\"choropleth\",\"colorbar\":{\"outlinewidth\":0,\"ticks\":\"\"}}],\"histogram2d\":[{\"type\":\"histogram2d\",\"colorbar\":{\"outlinewidth\":0,\"ticks\":\"\"},\"colorscale\":[[0.0,\"#0d0887\"],[0.1111111111111111,\"#46039f\"],[0.2222222222222222,\"#7201a8\"],[0.3333333333333333,\"#9c179e\"],[0.4444444444444444,\"#bd3786\"],[0.5555555555555556,\"#d8576b\"],[0.6666666666666666,\"#ed7953\"],[0.7777777777777778,\"#fb9f3a\"],[0.8888888888888888,\"#fdca26\"],[1.0,\"#f0f921\"]]}],\"heatmap\":[{\"type\":\"heatmap\",\"colorbar\":{\"outlinewidth\":0,\"ticks\":\"\"},\"colorscale\":[[0.0,\"#0d0887\"],[0.1111111111111111,\"#46039f\"],[0.2222222222222222,\"#7201a8\"],[0.3333333333333333,\"#9c179e\"],[0.4444444444444444,\"#bd3786\"],[0.5555555555555556,\"#d8576b\"],[0.6666666666666666,\"#ed7953\"],[0.7777777777777778,\"#fb9f3a\"],[0.8888888888888888,\"#fdca26\"],[1.0,\"#f0f921\"]]}],\"heatmapgl\":[{\"type\":\"heatmapgl\",\"colorbar\":{\"outlinewidth\":0,\"ticks\":\"\"},\"colorscale\":[[0.0,\"#0d0887\"],[0.1111111111111111,\"#46039f\"],[0.2222222222222222,\"#7201a8\"],[0.3333333333333333,\"#9c179e\"],[0.4444444444444444,\"#bd3786\"],[0.5555555555555556,\"#d8576b\"],[0.6666666666666666,\"#ed7953\"],[0.7777777777777778,\"#fb9f3a\"],[0.8888888888888888,\"#fdca26\"],[1.0,\"#f0f921\"]]}],\"contourcarpet\":[{\"type\":\"contourcarpet\",\"colorbar\":{\"outlinewidth\":0,\"ticks\":\"\"}}],\"contour\":[{\"type\":\"contour\",\"colorbar\":{\"outlinewidth\":0,\"ticks\":\"\"},\"colorscale\":[[0.0,\"#0d0887\"],[0.1111111111111111,\"#46039f\"],[0.2222222222222222,\"#7201a8\"],[0.3333333333333333,\"#9c179e\"],[0.4444444444444444,\"#bd3786\"],[0.5555555555555556,\"#d8576b\"],[0.6666666666666666,\"#ed7953\"],[0.7777777777777778,\"#fb9f3a\"],[0.8888888888888888,\"#fdca26\"],[1.0,\"#f0f921\"]]}],\"surface\":[{\"type\":\"surface\",\"colorbar\":{\"outlinewidth\":0,\"ticks\":\"\"},\"colorscale\":[[0.0,\"#0d0887\"],[0.1111111111111111,\"#46039f\"],[0.2222222222222222,\"#7201a8\"],[0.3333333333333333,\"#9c179e\"],[0.4444444444444444,\"#bd3786\"],[0.5555555555555556,\"#d8576b\"],[0.6666666666666666,\"#ed7953\"],[0.7777777777777778,\"#fb9f3a\"],[0.8888888888888888,\"#fdca26\"],[1.0,\"#f0f921\"]]}],\"mesh3d\":[{\"type\":\"mesh3d\",\"colorbar\":{\"outlinewidth\":0,\"ticks\":\"\"}}],\"scatter\":[{\"fillpattern\":{\"fillmode\":\"overlay\",\"size\":10,\"solidity\":0.2},\"type\":\"scatter\"}],\"parcoords\":[{\"type\":\"parcoords\",\"line\":{\"colorbar\":{\"outlinewidth\":0,\"ticks\":\"\"}}}],\"scatterpolargl\":[{\"type\":\"scatterpolargl\",\"marker\":{\"colorbar\":{\"outlinewidth\":0,\"ticks\":\"\"}}}],\"bar\":[{\"error_x\":{\"color\":\"#2a3f5f\"},\"error_y\":{\"color\":\"#2a3f5f\"},\"marker\":{\"line\":{\"color\":\"#E5ECF6\",\"width\":0.5},\"pattern\":{\"fillmode\":\"overlay\",\"size\":10,\"solidity\":0.2}},\"type\":\"bar\"}],\"scattergeo\":[{\"type\":\"scattergeo\",\"marker\":{\"colorbar\":{\"outlinewidth\":0,\"ticks\":\"\"}}}],\"scatterpolar\":[{\"type\":\"scatterpolar\",\"marker\":{\"colorbar\":{\"outlinewidth\":0,\"ticks\":\"\"}}}],\"histogram\":[{\"marker\":{\"pattern\":{\"fillmode\":\"overlay\",\"size\":10,\"solidity\":0.2}},\"type\":\"histogram\"}],\"scattergl\":[{\"type\":\"scattergl\",\"marker\":{\"colorbar\":{\"outlinewidth\":0,\"ticks\":\"\"}}}],\"scatter3d\":[{\"type\":\"scatter3d\",\"line\":{\"colorbar\":{\"outlinewidth\":0,\"ticks\":\"\"}},\"marker\":{\"colorbar\":{\"outlinewidth\":0,\"ticks\":\"\"}}}],\"scattermapbox\":[{\"type\":\"scattermapbox\",\"marker\":{\"colorbar\":{\"outlinewidth\":0,\"ticks\":\"\"}}}],\"scatterternary\":[{\"type\":\"scatterternary\",\"marker\":{\"colorbar\":{\"outlinewidth\":0,\"ticks\":\"\"}}}],\"scattercarpet\":[{\"type\":\"scattercarpet\",\"marker\":{\"colorbar\":{\"outlinewidth\":0,\"ticks\":\"\"}}}],\"carpet\":[{\"aaxis\":{\"endlinecolor\":\"#2a3f5f\",\"gridcolor\":\"white\",\"linecolor\":\"white\",\"minorgridcolor\":\"white\",\"startlinecolor\":\"#2a3f5f\"},\"baxis\":{\"endlinecolor\":\"#2a3f5f\",\"gridcolor\":\"white\",\"linecolor\":\"white\",\"minorgridcolor\":\"white\",\"startlinecolor\":\"#2a3f5f\"},\"type\":\"carpet\"}],\"table\":[{\"cells\":{\"fill\":{\"color\":\"#EBF0F8\"},\"line\":{\"color\":\"white\"}},\"header\":{\"fill\":{\"color\":\"#C8D4E3\"},\"line\":{\"color\":\"white\"}},\"type\":\"table\"}],\"barpolar\":[{\"marker\":{\"line\":{\"color\":\"#E5ECF6\",\"width\":0.5},\"pattern\":{\"fillmode\":\"overlay\",\"size\":10,\"solidity\":0.2}},\"type\":\"barpolar\"}],\"pie\":[{\"automargin\":true,\"type\":\"pie\"}]},\"layout\":{\"autotypenumbers\":\"strict\",\"colorway\":[\"#636efa\",\"#EF553B\",\"#00cc96\",\"#ab63fa\",\"#FFA15A\",\"#19d3f3\",\"#FF6692\",\"#B6E880\",\"#FF97FF\",\"#FECB52\"],\"font\":{\"color\":\"#2a3f5f\"},\"hovermode\":\"closest\",\"hoverlabel\":{\"align\":\"left\"},\"paper_bgcolor\":\"white\",\"plot_bgcolor\":\"#E5ECF6\",\"polar\":{\"bgcolor\":\"#E5ECF6\",\"angularaxis\":{\"gridcolor\":\"white\",\"linecolor\":\"white\",\"ticks\":\"\"},\"radialaxis\":{\"gridcolor\":\"white\",\"linecolor\":\"white\",\"ticks\":\"\"}},\"ternary\":{\"bgcolor\":\"#E5ECF6\",\"aaxis\":{\"gridcolor\":\"white\",\"linecolor\":\"white\",\"ticks\":\"\"},\"baxis\":{\"gridcolor\":\"white\",\"linecolor\":\"white\",\"ticks\":\"\"},\"caxis\":{\"gridcolor\":\"white\",\"linecolor\":\"white\",\"ticks\":\"\"}},\"coloraxis\":{\"colorbar\":{\"outlinewidth\":0,\"ticks\":\"\"}},\"colorscale\":{\"sequential\":[[0.0,\"#0d0887\"],[0.1111111111111111,\"#46039f\"],[0.2222222222222222,\"#7201a8\"],[0.3333333333333333,\"#9c179e\"],[0.4444444444444444,\"#bd3786\"],[0.5555555555555556,\"#d8576b\"],[0.6666666666666666,\"#ed7953\"],[0.7777777777777778,\"#fb9f3a\"],[0.8888888888888888,\"#fdca26\"],[1.0,\"#f0f921\"]],\"sequentialminus\":[[0.0,\"#0d0887\"],[0.1111111111111111,\"#46039f\"],[0.2222222222222222,\"#7201a8\"],[0.3333333333333333,\"#9c179e\"],[0.4444444444444444,\"#bd3786\"],[0.5555555555555556,\"#d8576b\"],[0.6666666666666666,\"#ed7953\"],[0.7777777777777778,\"#fb9f3a\"],[0.8888888888888888,\"#fdca26\"],[1.0,\"#f0f921\"]],\"diverging\":[[0,\"#8e0152\"],[0.1,\"#c51b7d\"],[0.2,\"#de77ae\"],[0.3,\"#f1b6da\"],[0.4,\"#fde0ef\"],[0.5,\"#f7f7f7\"],[0.6,\"#e6f5d0\"],[0.7,\"#b8e186\"],[0.8,\"#7fbc41\"],[0.9,\"#4d9221\"],[1,\"#276419\"]]},\"xaxis\":{\"gridcolor\":\"white\",\"linecolor\":\"white\",\"ticks\":\"\",\"title\":{\"standoff\":15},\"zerolinecolor\":\"white\",\"automargin\":true,\"zerolinewidth\":2},\"yaxis\":{\"gridcolor\":\"white\",\"linecolor\":\"white\",\"ticks\":\"\",\"title\":{\"standoff\":15},\"zerolinecolor\":\"white\",\"automargin\":true,\"zerolinewidth\":2},\"scene\":{\"xaxis\":{\"backgroundcolor\":\"#E5ECF6\",\"gridcolor\":\"white\",\"linecolor\":\"white\",\"showbackground\":true,\"ticks\":\"\",\"zerolinecolor\":\"white\",\"gridwidth\":2},\"yaxis\":{\"backgroundcolor\":\"#E5ECF6\",\"gridcolor\":\"white\",\"linecolor\":\"white\",\"showbackground\":true,\"ticks\":\"\",\"zerolinecolor\":\"white\",\"gridwidth\":2},\"zaxis\":{\"backgroundcolor\":\"#E5ECF6\",\"gridcolor\":\"white\",\"linecolor\":\"white\",\"showbackground\":true,\"ticks\":\"\",\"zerolinecolor\":\"white\",\"gridwidth\":2}},\"shapedefaults\":{\"line\":{\"color\":\"#2a3f5f\"}},\"annotationdefaults\":{\"arrowcolor\":\"#2a3f5f\",\"arrowhead\":0,\"arrowwidth\":1},\"geo\":{\"bgcolor\":\"white\",\"landcolor\":\"#E5ECF6\",\"subunitcolor\":\"white\",\"showland\":true,\"showlakes\":true,\"lakecolor\":\"white\"},\"title\":{\"x\":0.05},\"mapbox\":{\"style\":\"light\"}}},\"xaxis\":{\"anchor\":\"y\",\"domain\":[0.0,1.0],\"title\":{\"text\":\"x\"}},\"yaxis\":{\"anchor\":\"x\",\"domain\":[0.0,1.0],\"title\":{\"text\":\"y\"}},\"legend\":{\"title\":{\"text\":\"line\"},\"tracegroupgap\":0},\"margin\":{\"t\":60}},                        {\"responsive\": true}                    ).then(function(){\n",
              "                            \n",
              "var gd = document.getElementById('6db8c8c8-a0c0-4f9e-8fd5-849e4ad06303');\n",
              "var x = new MutationObserver(function (mutations, observer) {{\n",
              "        var display = window.getComputedStyle(gd).display;\n",
              "        if (!display || display === 'none') {{\n",
              "            console.log([gd, 'removed!']);\n",
              "            Plotly.purge(gd);\n",
              "            observer.disconnect();\n",
              "        }}\n",
              "}});\n",
              "\n",
              "// Listen for the removal of the full notebook cells\n",
              "var notebookContainer = gd.closest('#notebook-container');\n",
              "if (notebookContainer) {{\n",
              "    x.observe(notebookContainer, {childList: true});\n",
              "}}\n",
              "\n",
              "// Listen for the clearing of the current output cell\n",
              "var outputEl = gd.closest('.output');\n",
              "if (outputEl) {{\n",
              "    x.observe(outputEl, {childList: true});\n",
              "}}\n",
              "\n",
              "                        })                };                            </script>        </div>\n",
              "</body>\n",
              "</html>"
            ]
          },
          "metadata": {}
        }
      ]
    },
    {
      "cell_type": "code",
      "source": [],
      "metadata": {
        "id": "D2V1uIHRZ3WW"
      },
      "execution_count": 38,
      "outputs": []
    }
  ]
}